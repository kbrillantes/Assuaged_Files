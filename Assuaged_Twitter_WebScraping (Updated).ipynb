{
 "cells": [
  {
   "cell_type": "code",
   "execution_count": 1,
   "metadata": {},
   "outputs": [],
   "source": [
    "import tweepy\n",
    "import time\n",
    "import pandas as pd\n",
    "import json\n",
    "import csv\n",
    "import preprocessor as p\n",
    "import numpy as np"
   ]
  },
  {
   "cell_type": "code",
   "execution_count": 2,
   "metadata": {},
   "outputs": [],
   "source": [
    "consumer_key="
    "consumer_secret="
    "access_token_secret=",
    "access_token="
   ]
  },
  {
   "cell_type": "code",
   "execution_count": 3,
   "metadata": {},
   "outputs": [],
   "source": [
    "auth = tweepy.OAuthHandler(consumer_key, consumer_secret)\n",
    "auth.set_access_token(access_token, access_token_secret)\n",
    "api = tweepy.API(auth,wait_on_rate_limit=True,wait_on_rate_limit_notify=True)"
   ]
  },
  {
   "cell_type": "code",
   "execution_count": 4,
   "metadata": {},
   "outputs": [],
   "source": [
    "screen_name='mindbodygreen'\n",
    "count=200   \n",
    "pages= np.arange(10) \n",
    "tweets=api.user_timeline(screen_name=screen_name,count=count,page=0)\n",
    "\n",
    "txts = []\n",
    "for page in pages: \n",
    "    tweets = api.user_timeline(screen_name=screen_name, count=count, page=page)\n",
    "    for tweet in tweets: \n",
    "        txts.append(json.loads(json.dumps(tweet._json)))"
   ]
  },
  {
   "cell_type": "code",
   "execution_count": 5,
   "metadata": {},
   "outputs": [],
   "source": [
    "# name of csv file  \n",
    "#filename = \"results.csv\"\n",
    "    \n",
    "# writing to csv file  \n",
    "#with open(filename, 'w') as csvfile:  \n",
    "    # creating a csv writer object  \n",
    "    #csvwriter = csv.writer(csvfile)  \n",
    "        \n",
    "    # writing the fields  \n",
    "    #csvwriter.writerow(fields)  \n",
    "        \n",
    "    # writing the data rows  \n",
    "    #csvwriter.writerows(rows) "
   ]
  },
  {
   "cell_type": "code",
   "execution_count": 6,
   "metadata": {},
   "outputs": [
    {
     "data": {
      "text/plain": [
       "200"
      ]
     },
     "execution_count": 6,
     "metadata": {},
     "output_type": "execute_result"
    }
   ],
   "source": [
    "txts = []\n",
    "for tweet in tweets:\n",
    "    txts.append(json.loads(json.dumps(tweet._json)))\n",
    "    \n",
    "len(txts)"
   ]
  },
  {
   "cell_type": "code",
   "execution_count": 7,
   "metadata": {
    "scrolled": true
   },
   "outputs": [
    {
     "data": {
      "text/plain": [
       "{'created_at': 'Mon Mar 23 03:00:07 +0000 2020',\n",
       " 'id': 1241922646834634754,\n",
       " 'id_str': '1241922646834634754',\n",
       " 'text': 'No. 1: Consider adding a mirror to your workspace. 👩\\u200d💻 https://t.co/sgotn9zybG',\n",
       " 'truncated': False,\n",
       " 'entities': {'hashtags': [],\n",
       "  'symbols': [],\n",
       "  'user_mentions': [],\n",
       "  'urls': [{'url': 'https://t.co/sgotn9zybG',\n",
       "    'expanded_url': 'http://ow.ly/1DAT30qrjAl',\n",
       "    'display_url': 'ow.ly/1DAT30qrjAl',\n",
       "    'indices': [55, 78]}]},\n",
       " 'source': '<a href=\"https://www.hootsuite.com\" rel=\"nofollow\">Hootsuite Inc.</a>',\n",
       " 'in_reply_to_status_id': None,\n",
       " 'in_reply_to_status_id_str': None,\n",
       " 'in_reply_to_user_id': None,\n",
       " 'in_reply_to_user_id_str': None,\n",
       " 'in_reply_to_screen_name': None,\n",
       " 'user': {'id': 17781673,\n",
       "  'id_str': '17781673',\n",
       "  'name': 'mindbodygreen',\n",
       "  'screen_name': 'mindbodygreen',\n",
       "  'location': 'Brooklyn, NY',\n",
       "  'description': 'connecting soul & science. 💫',\n",
       "  'url': 'http://t.co/xQ41BHxbiB',\n",
       "  'entities': {'url': {'urls': [{'url': 'http://t.co/xQ41BHxbiB',\n",
       "      'expanded_url': 'http://www.mindbodygreen.com',\n",
       "      'display_url': 'mindbodygreen.com',\n",
       "      'indices': [0, 22]}]},\n",
       "   'description': {'urls': []}},\n",
       "  'protected': False,\n",
       "  'followers_count': 305178,\n",
       "  'friends_count': 595,\n",
       "  'listed_count': 4824,\n",
       "  'created_at': 'Mon Dec 01 16:00:58 +0000 2008',\n",
       "  'favourites_count': 17896,\n",
       "  'utc_offset': None,\n",
       "  'time_zone': None,\n",
       "  'geo_enabled': True,\n",
       "  'verified': True,\n",
       "  'statuses_count': 84154,\n",
       "  'lang': None,\n",
       "  'contributors_enabled': False,\n",
       "  'is_translator': False,\n",
       "  'is_translation_enabled': False,\n",
       "  'profile_background_color': '0A0A0A',\n",
       "  'profile_background_image_url': 'http://abs.twimg.com/images/themes/theme1/bg.png',\n",
       "  'profile_background_image_url_https': 'https://abs.twimg.com/images/themes/theme1/bg.png',\n",
       "  'profile_background_tile': True,\n",
       "  'profile_image_url': 'http://pbs.twimg.com/profile_images/924958204043264000/5676I8Tq_normal.jpg',\n",
       "  'profile_image_url_https': 'https://pbs.twimg.com/profile_images/924958204043264000/5676I8Tq_normal.jpg',\n",
       "  'profile_banner_url': 'https://pbs.twimg.com/profile_banners/17781673/1573249979',\n",
       "  'profile_link_color': '91D2FA',\n",
       "  'profile_sidebar_border_color': 'FFFFFF',\n",
       "  'profile_sidebar_fill_color': '6E94CC',\n",
       "  'profile_text_color': '000000',\n",
       "  'profile_use_background_image': True,\n",
       "  'has_extended_profile': False,\n",
       "  'default_profile': False,\n",
       "  'default_profile_image': False,\n",
       "  'following': False,\n",
       "  'follow_request_sent': False,\n",
       "  'notifications': False,\n",
       "  'translator_type': 'none'},\n",
       " 'geo': None,\n",
       " 'coordinates': None,\n",
       " 'place': None,\n",
       " 'contributors': None,\n",
       " 'is_quote_status': False,\n",
       " 'retweet_count': 4,\n",
       " 'favorite_count': 14,\n",
       " 'favorited': False,\n",
       " 'retweeted': False,\n",
       " 'possibly_sensitive': False,\n",
       " 'lang': 'en'}"
      ]
     },
     "execution_count": 7,
     "metadata": {},
     "output_type": "execute_result"
    }
   ],
   "source": [
    "txts[2]"
   ]
  },
  {
   "cell_type": "markdown",
   "metadata": {},
   "source": [
    "# MindBodyGreen's Content"
   ]
  },
  {
   "cell_type": "code",
   "execution_count": 8,
   "metadata": {},
   "outputs": [],
   "source": [
    "#get values lists\n",
    "time = []\n",
    "twtid = []\n",
    "text = []\n",
    "favorite_count = []\n",
    "retweet_count=[]\n",
    "hashtags=[]\n",
    "\n",
    "favorite_count=[]\n",
    "for line in txts:\n",
    "    time.append(line['created_at'])\n",
    "    twtid.append(line['id'])\n",
    "    text.append(line['text'])\n",
    "    favorite_count.append(line['favorite_count'])\n",
    "    retweet_count.append(line['retweet_count'])\n",
    "    hashtags.append(line['entities']['hashtags'])"
   ]
  },
  {
   "cell_type": "code",
   "execution_count": 9,
   "metadata": {},
   "outputs": [
    {
     "data": {
      "text/html": [
       "<div>\n",
       "<style scoped>\n",
       "    .dataframe tbody tr th:only-of-type {\n",
       "        vertical-align: middle;\n",
       "    }\n",
       "\n",
       "    .dataframe tbody tr th {\n",
       "        vertical-align: top;\n",
       "    }\n",
       "\n",
       "    .dataframe thead th {\n",
       "        text-align: right;\n",
       "    }\n",
       "</style>\n",
       "<table border=\"1\" class=\"dataframe\">\n",
       "  <thead>\n",
       "    <tr style=\"text-align: right;\">\n",
       "      <th></th>\n",
       "      <th>created_at</th>\n",
       "      <th>tweet_id</th>\n",
       "      <th>text</th>\n",
       "      <th>favorite_count</th>\n",
       "      <th>retweet_count</th>\n",
       "      <th>hashtags</th>\n",
       "    </tr>\n",
       "  </thead>\n",
       "  <tbody>\n",
       "    <tr>\n",
       "      <th>0</th>\n",
       "      <td>Mon Mar 23 09:00:45 +0000 2020</td>\n",
       "      <td>1242013405080403973</td>\n",
       "      <td>This delicious mix is protein-packed and made ...</td>\n",
       "      <td>11</td>\n",
       "      <td>3</td>\n",
       "      <td>[]</td>\n",
       "    </tr>\n",
       "    <tr>\n",
       "      <th>1</th>\n",
       "      <td>Mon Mar 23 05:00:08 +0000 2020</td>\n",
       "      <td>1241952850944589827</td>\n",
       "      <td>No. mistake from health psychologist : It's no...</td>\n",
       "      <td>7</td>\n",
       "      <td>1</td>\n",
       "      <td>[]</td>\n",
       "    </tr>\n",
       "    <tr>\n",
       "      <th>2</th>\n",
       "      <td>Mon Mar 23 03:00:07 +0000 2020</td>\n",
       "      <td>1241922646834634754</td>\n",
       "      <td>No. : Consider adding a mirror to your workspace.</td>\n",
       "      <td>14</td>\n",
       "      <td>4</td>\n",
       "      <td>[]</td>\n",
       "    </tr>\n",
       "    <tr>\n",
       "      <th>3</th>\n",
       "      <td>Mon Mar 23 01:00:09 +0000 2020</td>\n",
       "      <td>1241892456112717824</td>\n",
       "      <td>We go through steps to stop being emotionally ...</td>\n",
       "      <td>11</td>\n",
       "      <td>4</td>\n",
       "      <td>[]</td>\n",
       "    </tr>\n",
       "    <tr>\n",
       "      <th>4</th>\n",
       "      <td>Sun Mar 22 23:00:17 +0000 2020</td>\n",
       "      <td>1241862292712697864</td>\n",
       "      <td>Here's everything you need to know about what ...</td>\n",
       "      <td>7</td>\n",
       "      <td>0</td>\n",
       "      <td>[]</td>\n",
       "    </tr>\n",
       "    <tr>\n",
       "      <th>...</th>\n",
       "      <td>...</td>\n",
       "      <td>...</td>\n",
       "      <td>...</td>\n",
       "      <td>...</td>\n",
       "      <td>...</td>\n",
       "      <td>...</td>\n",
       "    </tr>\n",
       "    <tr>\n",
       "      <th>195</th>\n",
       "      <td>Mon Mar 09 13:30:13 +0000 2020</td>\n",
       "      <td>1237007787521081346</td>\n",
       "      <td>On this episode of the , tells mbg founder + c...</td>\n",
       "      <td>6</td>\n",
       "      <td>5</td>\n",
       "      <td>[{'text': 'mbgPodcast', 'indices': [23, 34]}]</td>\n",
       "    </tr>\n",
       "    <tr>\n",
       "      <th>196</th>\n",
       "      <td>Mon Mar 09 13:01:37 +0000 2020</td>\n",
       "      <td>1237000589051117568</td>\n",
       "      <td>Here's everything you need to know about the h...</td>\n",
       "      <td>7</td>\n",
       "      <td>1</td>\n",
       "      <td>[]</td>\n",
       "    </tr>\n",
       "    <tr>\n",
       "      <th>197</th>\n",
       "      <td>Mon Mar 09 11:01:10 +0000 2020</td>\n",
       "      <td>1236970276572794881</td>\n",
       "      <td>We're definitely whipping up 's Mixed Berry Ch...</td>\n",
       "      <td>8</td>\n",
       "      <td>2</td>\n",
       "      <td>[]</td>\n",
       "    </tr>\n",
       "    <tr>\n",
       "      <th>198</th>\n",
       "      <td>Mon Mar 09 09:00:51 +0000 2020</td>\n",
       "      <td>1236939996298444800</td>\n",
       "      <td>When should I start training? What workouts sh...</td>\n",
       "      <td>7</td>\n",
       "      <td>1</td>\n",
       "      <td>[]</td>\n",
       "    </tr>\n",
       "    <tr>\n",
       "      <th>199</th>\n",
       "      <td>Mon Mar 09 07:00:27 +0000 2020</td>\n",
       "      <td>1236909697803915264</td>\n",
       "      <td>\"Consider it an opportunity to experience the ...</td>\n",
       "      <td>13</td>\n",
       "      <td>3</td>\n",
       "      <td>[]</td>\n",
       "    </tr>\n",
       "  </tbody>\n",
       "</table>\n",
       "<p>200 rows × 6 columns</p>\n",
       "</div>"
      ],
      "text/plain": [
       "                         created_at             tweet_id  \\\n",
       "0    Mon Mar 23 09:00:45 +0000 2020  1242013405080403973   \n",
       "1    Mon Mar 23 05:00:08 +0000 2020  1241952850944589827   \n",
       "2    Mon Mar 23 03:00:07 +0000 2020  1241922646834634754   \n",
       "3    Mon Mar 23 01:00:09 +0000 2020  1241892456112717824   \n",
       "4    Sun Mar 22 23:00:17 +0000 2020  1241862292712697864   \n",
       "..                              ...                  ...   \n",
       "195  Mon Mar 09 13:30:13 +0000 2020  1237007787521081346   \n",
       "196  Mon Mar 09 13:01:37 +0000 2020  1237000589051117568   \n",
       "197  Mon Mar 09 11:01:10 +0000 2020  1236970276572794881   \n",
       "198  Mon Mar 09 09:00:51 +0000 2020  1236939996298444800   \n",
       "199  Mon Mar 09 07:00:27 +0000 2020  1236909697803915264   \n",
       "\n",
       "                                                  text  favorite_count  \\\n",
       "0    This delicious mix is protein-packed and made ...              11   \n",
       "1    No. mistake from health psychologist : It's no...               7   \n",
       "2    No. : Consider adding a mirror to your workspace.              14   \n",
       "3    We go through steps to stop being emotionally ...              11   \n",
       "4    Here's everything you need to know about what ...               7   \n",
       "..                                                 ...             ...   \n",
       "195  On this episode of the , tells mbg founder + c...               6   \n",
       "196  Here's everything you need to know about the h...               7   \n",
       "197  We're definitely whipping up 's Mixed Berry Ch...               8   \n",
       "198  When should I start training? What workouts sh...               7   \n",
       "199  \"Consider it an opportunity to experience the ...              13   \n",
       "\n",
       "     retweet_count                                       hashtags  \n",
       "0                3                                             []  \n",
       "1                1                                             []  \n",
       "2                4                                             []  \n",
       "3                4                                             []  \n",
       "4                0                                             []  \n",
       "..             ...                                            ...  \n",
       "195              5  [{'text': 'mbgPodcast', 'indices': [23, 34]}]  \n",
       "196              1                                             []  \n",
       "197              2                                             []  \n",
       "198              1                                             []  \n",
       "199              3                                             []  \n",
       "\n",
       "[200 rows x 6 columns]"
      ]
     },
     "execution_count": 9,
     "metadata": {},
     "output_type": "execute_result"
    }
   ],
   "source": [
    "# remove urls and hashtags in tweets\n",
    "p.clean(text[1])\n",
    "# remove hashtags and urls in all tweets\n",
    "text_clean = []\n",
    "for line in text:\n",
    "  text_clean.append(p.clean(line))\n",
    "text_clean[:1]\n",
    "# create data frame\n",
    "df = pd.DataFrame(list(zip(time, twtid, text_clean, favorite_count, retweet_count, hashtags)),\n",
    "                             columns=['created_at', 'tweet_id','text','favorite_count','retweet_count',\n",
    "                                     'hashtags'])\n",
    "df"
   ]
  },
  {
   "cell_type": "markdown",
   "metadata": {},
   "source": [
    "# MindBodyGreen's Profile"
   ]
  },
  {
   "cell_type": "code",
   "execution_count": 10,
   "metadata": {},
   "outputs": [],
   "source": [
    "#date_since = \"2020-05-29\"\n",
    "mindbodygreen=api.get_user(screen_name='mindbodygreen')"
   ]
  },
  {
   "cell_type": "code",
   "execution_count": 11,
   "metadata": {},
   "outputs": [],
   "source": [
    "#getting the latest total followers count, favorites count and posts count\n",
    "follower_count = mindbodygreen.followers_count\n",
    "favourites_count = mindbodygreen.favourites_count\n",
    "posts_count = mindbodygreen.statuses_count"
   ]
  },
  {
   "cell_type": "code",
   "execution_count": 12,
   "metadata": {},
   "outputs": [
    {
     "name": "stdout",
     "output_type": "stream",
     "text": [
      "305178\n",
      "17896\n",
      "84154\n"
     ]
    }
   ],
   "source": [
    "#latest count output\n",
    "print(follower_count)\n",
    "print(favourites_count)\n",
    "print(posts_count)"
   ]
  },
  {
   "cell_type": "code",
   "execution_count": 13,
   "metadata": {},
   "outputs": [],
   "source": [
    "#userinfo = []\n",
    "# for mindbodygreen in :\n",
    "#    users.append(json.loads(json.dumps(mindbodygreen._json)))\n",
    "    \n",
    "#len(users)"
   ]
  },
  {
   "cell_type": "code",
   "execution_count": 14,
   "metadata": {},
   "outputs": [
    {
     "ename": "NameError",
     "evalue": "name 'date_since' is not defined",
     "output_type": "error",
     "traceback": [
      "\u001b[1;31m---------------------------------------------------------------------------\u001b[0m",
      "\u001b[1;31mNameError\u001b[0m                                 Traceback (most recent call last)",
      "\u001b[1;32m<ipython-input-14-0387a77e41de>\u001b[0m in \u001b[0;36m<module>\u001b[1;34m\u001b[0m\n\u001b[0;32m      1\u001b[0m \u001b[0muser_data\u001b[0m \u001b[1;33m=\u001b[0m \u001b[1;33m[\u001b[0m\u001b[1;33m]\u001b[0m\u001b[1;33m\u001b[0m\u001b[1;33m\u001b[0m\u001b[0m\n\u001b[1;32m----> 2\u001b[1;33m \u001b[1;32mfor\u001b[0m \u001b[0mmindbodygreen\u001b[0m \u001b[1;32min\u001b[0m \u001b[0mtweepy\u001b[0m\u001b[1;33m.\u001b[0m\u001b[0mCursor\u001b[0m\u001b[1;33m(\u001b[0m\u001b[0mapi\u001b[0m\u001b[1;33m.\u001b[0m\u001b[0mget_user\u001b[0m\u001b[1;33m,\u001b[0m \u001b[0mscreen_name\u001b[0m\u001b[1;33m=\u001b[0m\u001b[0mscreen_name\u001b[0m\u001b[1;33m,\u001b[0m \u001b[0msince\u001b[0m\u001b[1;33m=\u001b[0m\u001b[0mdate_since\u001b[0m\u001b[1;33m)\u001b[0m\u001b[1;33m.\u001b[0m\u001b[0mitems\u001b[0m\u001b[1;33m(\u001b[0m\u001b[1;33m)\u001b[0m\u001b[1;33m:\u001b[0m\u001b[1;33m\u001b[0m\u001b[1;33m\u001b[0m\u001b[0m\n\u001b[0m\u001b[0;32m      3\u001b[0m \u001b[1;31m#for userinfo in tweepy.Cursor()\u001b[0m\u001b[1;33m\u001b[0m\u001b[1;33m\u001b[0m\u001b[1;33m\u001b[0m\u001b[0m\n\u001b[0;32m      4\u001b[0m     \u001b[0muser_data\u001b[0m\u001b[1;33m.\u001b[0m\u001b[0mappend\u001b[0m\u001b[1;33m(\u001b[0m\u001b[0mjson\u001b[0m\u001b[1;33m.\u001b[0m\u001b[0mloads\u001b[0m\u001b[1;33m(\u001b[0m\u001b[0mjson\u001b[0m\u001b[1;33m.\u001b[0m\u001b[0mdumps\u001b[0m\u001b[1;33m(\u001b[0m\u001b[0muserinfo\u001b[0m\u001b[1;33m.\u001b[0m\u001b[0m_json\u001b[0m\u001b[1;33m)\u001b[0m\u001b[1;33m)\u001b[0m\u001b[1;33m)\u001b[0m\u001b[1;33m\u001b[0m\u001b[1;33m\u001b[0m\u001b[0m\n\u001b[0;32m      5\u001b[0m \u001b[1;33m\u001b[0m\u001b[0m\n",
      "\u001b[1;31mNameError\u001b[0m: name 'date_since' is not defined"
     ]
    }
   ],
   "source": [
    "user_data = []\n",
    "for mindbodygreen in tweepy.Cursor(api.get_user, screen_name=screen_name, since=date_since).items():\n",
    "#for userinfo in tweepy.Cursor()\n",
    "    user_data.append(json.loads(json.dumps(userinfo._json)))\n",
    "\n",
    "len(user_data)"
   ]
  }
 ],
 "metadata": {
  "kernelspec": {
   "display_name": "Python 3",
   "language": "python",
   "name": "python3"
  },
  "language_info": {
   "codemirror_mode": {
    "name": "ipython",
    "version": 3
   },
   "file_extension": ".py",
   "mimetype": "text/x-python",
   "name": "python",
   "nbconvert_exporter": "python",
   "pygments_lexer": "ipython3",
   "version": "3.8.3"
  }
 },
 "nbformat": 4,
 "nbformat_minor": 4
}
